{
 "cells": [
  {
   "cell_type": "markdown",
   "metadata": {},
   "source": [
    "# Conda & CUDA Setup for ML for Windows 10 and Ubuntu 18.04\n",
    "-----"
   ]
  },
  {
   "cell_type": "markdown",
   "metadata": {},
   "source": [
    "## Windows 10\n",
    "----"
   ]
  },
  {
   "cell_type": "markdown",
   "metadata": {},
   "source": [
    "### 1. NVIDIA driver\n",
    "Download and install the newest NVIDIA driver from here: [link](https://www.nvidia.com/Download/index.aspx?lang=en-us). \n",
    "<br>\n",
    "Download Type should be `Studio Driver (SD)`.\n",
    "<img src=\"images/NVIDIA_Win10Driver.png\"/>"
   ]
  },
  {
   "cell_type": "markdown",
   "metadata": {},
   "source": [
    "### 2. CUDAToolkit\n",
    "**ATTENTION:** most likely the CUDAtoolkit is not necessary for `PyTorch` because it will be installed by conda! \n",
    "<br>\n",
    "It is definitely not necessary for `TensorFlow` (see [link](https://www.pugetsystems.com/labs/hpc/How-to-Install-TensorFlow-with-GPU-Support-on-Windows-10-Without-Installing-CUDA-UPDATED-1419/))!\n",
    "<br>\n",
    "Download CUDAtoolkit from this [archive](https://developer.nvidia.com/cuda-toolkit-archive). At the time of this writing use **version 10.1**! \n",
    "<br>\n",
    "Install VisualStudio 15 community! \n",
    "<br>\n",
    "**Just install the CUDAToolkit components!** The rest is not needed for ML purposes!"
   ]
  },
  {
   "cell_type": "markdown",
   "metadata": {},
   "source": [
    "### 3. Anaconda\n",
    "1. Download Anaconda from [Anaconda](https://www.anaconda.com/distribution/) and install it!\n",
    "2. Starten Anaconda Prompt!\n",
    "3. Update conda: \n",
    "```\n",
    "conda update conda\n",
    "```\n",
    "4. Update anaconda:\n",
    "```\n",
    "conda update anaconda\n",
    "```\n",
    "5. Update Python: \n",
    "```\n",
    "conda update python\n",
    "```\n",
    "6. Updaten all: \n",
    "```\n",
    "conda update --all\n",
    "```\n",
    "7. Create a virtuel conda environment: \n",
    "```\n",
    "conda create --name <name of env>\n",
    "```\n",
    "8. Activate that environment: \n",
    "```\n",
    "conda activate <name of env>\n",
    "```"
   ]
  },
  {
   "cell_type": "markdown",
   "metadata": {},
   "source": [
    "### 4. TensorFlow\n",
    "Within anaconda prompt:\n",
    "<br>\n",
    "Within the environment `<name of env>` install **[TensorFlow](https://www.tensorflow.org/)** by entering the following command:\n",
    "```\n",
    "conda install tensorflow-gpu\n",
    "```\n",
    "For tenserflow 2.1 use:\n",
    "```\n",
    "conda install tensorflow-gpu=2.1\n",
    "```\n",
    "This includes, *TensorFlow*, *Keras*, *TensorBoard*, *CUDAoolkit 10.x*, *cuDNN 7.x* along with all of the dependencies. It's all in the new `<name of env>` environment ready to use and isolated from other env's or packages on the system."
   ]
  },
  {
   "cell_type": "markdown",
   "metadata": {},
   "source": [
    "### 5. PyTorch\n",
    "Within anaconda prompt:\n",
    "<br>\n",
    "Within the environment `<name of env>` install **[Pytorch 1.4](https://pytorch.org/)** by entering the following command:\n",
    "```\n",
    "conda install pytorch torchvision cudatoolkit=10.1 -c pytorch\n",
    "```\n",
    "This includes *Pytorch*, *Torchvision* and ***CUDAtoolkit 10.1***. It's all in the new `<name of env>` environment ready to use and isolated from other env's or packages on the system."
   ]
  },
  {
   "cell_type": "markdown",
   "metadata": {},
   "source": [
    "<br>"
   ]
  },
  {
   "cell_type": "markdown",
   "metadata": {},
   "source": [
    "## Ubuntu 18.04\n",
    "----"
   ]
  },
  {
   "cell_type": "markdown",
   "metadata": {},
   "source": [
    "### 1. NVIDIA Driver\n",
    "Install the newest NVIDIA driver: The simplest way to install the driver is from the \"graphics-drivers ppa\".\n",
    "```\n",
    "sudo add-apt-repository ppa:graphics-drivers/ppa\n",
    "```\n",
    "Install dependencies for the system to build the kernel modules:\n",
    "```\n",
    "sudo apt-get install dkms build-essential\n",
    "```\n",
    "Update:\n",
    "```\n",
    "sudo apt-get update\n",
    "```\n",
    "List the available driver packages:\n",
    "```\n",
    "ubuntu-drivers list\n",
    "```\n",
    "Install the **latest driver** (at the time of this writing it is nvidia-driver-440):\n",
    "```\n",
    "sudo apt-get install nvidia-driver-440\n",
    "```\n",
    "Restart the computer:\n",
    "```\n",
    "sudo shutdown -r now\n",
    "```\n",
    "Install CUDA dependencies:\n",
    "```\n",
    "sudo apt-get install freeglut3 freeglut3-dev libxi-dev libxmu-dev\n",
    "```"
   ]
  },
  {
   "cell_type": "markdown",
   "metadata": {},
   "source": [
    "### 2. CUDAtoolkit - not neseccary for conda / anaconda\n",
    "Get the CUDA run file installer from this [archive](https://developer.nvidia.com/cuda-toolkit-archive)! Use version 10.1 not the latest one!\n",
    "<img src=\"images/CUDA_ubuntu_runfile.png\"/>\n",
    "Run the runfile to install the CUDA toolkit and samples:\n",
    "```\n",
    "sudo sh cuda_10.1.105_418.39_linux.run\n",
    "```\n",
    "Within the selector box **un-check** the \"Driver\" block and then select \"Install\" and hit \"Enter\".\n",
    "<img src=\"images/Uncheck_driver_cudatoolkit_ubuntu.png\"/>"
   ]
  },
  {
   "cell_type": "markdown",
   "metadata": {},
   "source": [
    "### 3. Anaconda\n",
    "1. Download anaconda from [Anaconda](https://www.anaconda.com/distribution/).\n",
    "2. Use the sha256sum command to verify the script checksum: *This is for Anaconda3-2020 version*\n",
    "```\n",
    "sha256sum Anaconda3-2020.20-Linux-x86_64.sh\n",
    "```\n",
    "3. Make sure the hash printed from the command matches the one available at the Anaconda with Python 3 on 64-bit Linux page for your appropriate Anaconda version\n",
    "4. To start the Anaconda installation process run the installation script: *This is for Anaconda3-2020 version*. Follow the instructions and always answer \"yes\".\n",
    "```\n",
    "bash Anaconda3-2020.20-Linux-x86_64.sh\n",
    "```\n",
    "5. Verify the Installation:\n",
    "```\n",
    "conda info\n",
    "```\n",
    "6. Update conda:\n",
    "```\n",
    "conda update conda\n",
    "```\n",
    "7. Update anaconda:\n",
    "```\n",
    "conda update anaconda\n",
    "```\n",
    "Update Python:\n",
    "```\n",
    "conda update python\n",
    "```\n",
    "Updaten all:\n",
    "```\n",
    "conda update --all\n",
    "```\n",
    "Create a virtuel `conda` environment:\n",
    "```\n",
    "conda create --name <name of env>\n",
    "```\n",
    "Activate that new environment:\n",
    "```\n",
    "conda activate <name of env>\n",
    "```"
   ]
  },
  {
   "cell_type": "markdown",
   "metadata": {},
   "source": [
    "### 4. TensorFlow\n",
    "Within the environment `<name of env>` install **[TensorFlow](https://www.tensorflow.org/)** by entering the following command: \n",
    "```\n",
    "conda install tensorflow-gpu\n",
    "```\n",
    "For tenserflow 2.1 use:\n",
    "```\n",
    "conda install tensorflow-gpu=2.1\n",
    "```\n",
    "This includes, *TensorFlow*, *Keras*, *TensorBoard*, ***CUDAtoolkit 10.x***, *cuDNN 7.x* along with all of the dependencies. It's all in the new `<name of env>` environment ready to use and isolated from other env's or packages on the system.\n",
    "<br><br>\n",
    "To check if `TensorFlow` and `CUDA` have been installed successfully within the environment `<name of env>`:\n",
    "1. Start python:\n",
    "```\n",
    "python\n",
    "```\n",
    "2. Within Python enter:\n",
    "```\n",
    "import tensorflow as tf\n",
    "```\n",
    "and\n",
    "```\n",
    "print(tf.__version__)\n",
    "```\n",
    "This prints the version of `TensorFlow`.\n",
    "<br><br>\n",
    "For `CUDA` and **`TensorFlow` 2.0** and above enter: \n",
    "```\n",
    "tf.config.list_physical_devices('GPU')\n",
    "```\n",
    "This prints something like:\n",
    "```\n",
    "[PhysicalDevice(name='/physical_device:GPU:0', device_type='GPU')]\n",
    "```\n",
    "You can also enter:\n",
    "```\n",
    "tf.test.is_built_with_cuda()\n",
    "```\n",
    "This should print:\n",
    "```\n",
    "True\n",
    "```\n",
    "To check the installed packages within the environment `<name of env>` enter:\n",
    "```\n",
    "conda list\n",
    "```\n",
    "**This displays all installed packages as well as their version number!**"
   ]
  },
  {
   "cell_type": "markdown",
   "metadata": {},
   "source": [
    "### 5. PyTorch\n",
    "Within the environment `<name of env>` install **[Pytorch 1.4](https://pytorch.org/)** by entering the following command:\n",
    "```\n",
    "conda install pytorch torchvision cudatoolkit=10.1 -c pytorch\n",
    "```\n",
    "This includes *Pytorch*, *Torchvision* and ***CUDAtoolkit 10.1*** It's all in the new `<name of env>` environment ready to use and isolated from other env's or packages on the system.\n",
    "<br><br>\n",
    "To check if `PyTorch` and `CUDA` have been installed successfully within the environment `<name of env>`:\n",
    "1. Start python:\n",
    "```\n",
    "python\n",
    "```\n",
    "2. Within Python enter:\n",
    "```\n",
    "import torch\n",
    "```\n",
    "and\n",
    "```\n",
    "print(torch.__version__)\n",
    "```\n",
    "This prints the version of `PyTorch`.\n",
    "<br><br>\n",
    "For `CUDA` enter: \n",
    "```\n",
    "torch.cuda.device_count()\n",
    "```\n",
    "This prints the number of CUDA devices.\n",
    "<br><br>\n",
    "To check the installed packages within the environment `<name of env>` enter:\n",
    "```\n",
    "conda list\n",
    "```\n",
    "**This displays all installed packages as well as their version number!**"
   ]
  },
  {
   "cell_type": "markdown",
   "metadata": {},
   "source": [
    "### 6. TensorFlow & Pytorch within the same environment\n",
    "First install TensorFlow as described above. **Make sure, that CUDAtoolkit 10.1 has been installed!**\n",
    "<br>\n",
    "Check this by entering the following command:\n",
    "```\n",
    "conda list\n",
    "```\n",
    "and check if the correct CUDAtoolkit has been installed.\n",
    "<br><br>\n",
    "Now install PyTorch as described above."
   ]
  },
  {
   "cell_type": "markdown",
   "metadata": {},
   "source": [
    "### 7. Jupyter Notebook Kernel and Jupyter\n",
    "Within the environment `<name of env>` install jupyter notebook kernel and jupyter (if not already done). *The IPython kernel is the Python execution backend for Jupyter*.\n",
    "```\n",
    "conda install ipykernel jupyter\n",
    "```\n",
    "Start a Jupyter notebook:\n",
    "```\n",
    "jupyter notebook\n",
    "```"
   ]
  },
  {
   "cell_type": "code",
   "execution_count": null,
   "metadata": {},
   "outputs": [],
   "source": []
  }
 ],
 "metadata": {
  "kernelspec": {
   "display_name": "Python 3",
   "language": "python",
   "name": "python3"
  },
  "language_info": {
   "codemirror_mode": {
    "name": "ipython",
    "version": 3
   },
   "file_extension": ".py",
   "mimetype": "text/x-python",
   "name": "python",
   "nbconvert_exporter": "python",
   "pygments_lexer": "ipython3",
   "version": "3.6.10"
  }
 },
 "nbformat": 4,
 "nbformat_minor": 4
}
