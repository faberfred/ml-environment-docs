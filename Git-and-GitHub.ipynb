{
 "cells": [
  {
   "cell_type": "markdown",
   "metadata": {},
   "source": [
    "# Git & GitHub\n",
    "-----"
   ]
  },
  {
   "cell_type": "markdown",
   "metadata": {},
   "source": [
    "### 1. Create a remote repository on GitHub\n",
    "Create a new remote repository on GitHub with the name `example-git-repository`.\n",
    "<br>\n",
    "Do not create a README.md file."
   ]
  },
  {
   "cell_type": "markdown",
   "metadata": {},
   "source": [
    "### 2. Create a new local repository\n",
    "1. Create a new folder `example-git-repository` for the new project.\n",
    "2. \"cd\" into that new folder `example-git-repository`.\n",
    "3. Enter the following command to create a README.md file with the following headline: example-git-repository:\n",
    "```\n",
    "echo \"# example-git-repository\" >> README.md\n",
    "```\n",
    "4. Initialize git within the folder `example-git-repository`.\n",
    "```\n",
    "git init\n",
    "```\n",
    "5. Add the new README.md file (and other files if they already exist)\n",
    "```\n",
    "git add README.md \n",
    "```\n",
    "or if more files already exist:\n",
    "```\n",
    "git add .\n",
    "```\n",
    "6. Commit the added files\n",
    "```\n",
    "git commit -m \"first commit\"\n",
    "```\n",
    "7. Add the remote repository to local git. *github-user-name* is the your user name on GitHub\n",
    "```\n",
    "git remote add origin https://github.com/github-user-name/example-git-repository.git\n",
    "```\n",
    "8. push the commited files to the remote repository\n",
    "```\n",
    "git push -u origin master\n",
    "```"
   ]
  },
  {
   "cell_type": "code",
   "execution_count": null,
   "metadata": {},
   "outputs": [],
   "source": []
  }
 ],
 "metadata": {
  "kernelspec": {
   "display_name": "Python 3",
   "language": "python",
   "name": "python3"
  },
  "language_info": {
   "codemirror_mode": {
    "name": "ipython",
    "version": 3
   },
   "file_extension": ".py",
   "mimetype": "text/x-python",
   "name": "python",
   "nbconvert_exporter": "python",
   "pygments_lexer": "ipython3",
   "version": "3.6.10"
  }
 },
 "nbformat": 4,
 "nbformat_minor": 4
}
