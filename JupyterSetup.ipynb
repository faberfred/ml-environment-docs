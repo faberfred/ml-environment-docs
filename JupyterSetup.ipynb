{
 "cells": [
  {
   "cell_type": "markdown",
   "metadata": {},
   "source": [
    "# Jupyter Notebook Setup within a conda environment\n",
    "This is a short documentation of setting up [Jupyter Notebook](https://jupyter-notebook.readthedocs.io/en/stable/) with the following functions:\n",
    "* Diffing and merging of Jupyter Notebooks\n",
    "* Spell checker"
   ]
  },
  {
   "cell_type": "markdown",
   "metadata": {},
   "source": [
    "### Preconditions\n",
    "1. Conda has been successfully installed.\n",
    "2. Jupyter Notebook has been successfully installed.\n",
    "3. A conda environment has been created and activated."
   ]
  },
  {
   "cell_type": "markdown",
   "metadata": {},
   "source": [
    "### 1. Diffing Jupyter Notebooks\n",
    "[nbdime](https://github.com/jupyter/nbdime) will be used for diffing Jupyter Notebooks."
   ]
  },
  {
   "cell_type": "markdown",
   "metadata": {},
   "source": [
    "Installing nbdime within the activated environment:"
   ]
  },
  {
   "cell_type": "markdown",
   "metadata": {},
   "source": [
    "```shell\n",
    "pip install nbdime\n",
    "```"
   ]
  },
  {
   "cell_type": "markdown",
   "metadata": {},
   "source": [
    "After installation `nbdiff` can be used directly within the Jupyter Notebook."
   ]
  },
  {
   "cell_type": "markdown",
   "metadata": {},
   "source": [
    "<img src=\"./images/nbdiff.png\"/>\n",
    "<!-- <img src=\"./images/nbdiff.png\" style=\"width:2000px; height:400px\"/> -->"
   ]
  },
  {
   "cell_type": "markdown",
   "metadata": {},
   "source": [
    "### 2. Spell checking\n",
    "[Jupyter Notebook extensions](https://github.com/ipython-contrib/jupyter_contrib_nbextensions) will be used for spell checking. "
   ]
  },
  {
   "cell_type": "markdown",
   "metadata": {},
   "source": [
    "Installing Jupyter Notebook extensions:"
   ]
  },
  {
   "cell_type": "markdown",
   "metadata": {},
   "source": [
    "```shell\n",
    "conda install -c conda-forge jupyter_contrib_nbextensions\n",
    "```"
   ]
  },
  {
   "cell_type": "markdown",
   "metadata": {},
   "source": [
    "Activate the spell checker after installation: \n",
    "<br>\n",
    "Go to the `Nbextensions`and activate the `spellchecker`.\n"
   ]
  },
  {
   "cell_type": "markdown",
   "metadata": {},
   "source": [
    "<img src=\"images/spellchecker.png\"/>"
   ]
  },
  {
   "cell_type": "code",
   "execution_count": null,
   "metadata": {},
   "outputs": [],
   "source": []
  }
 ],
 "metadata": {
  "kernelspec": {
   "display_name": "Python 3",
   "language": "python",
   "name": "python3"
  },
  "language_info": {
   "codemirror_mode": {
    "name": "ipython",
    "version": 3
   },
   "file_extension": ".py",
   "mimetype": "text/x-python",
   "name": "python",
   "nbconvert_exporter": "python",
   "pygments_lexer": "ipython3",
   "version": "3.6.10"
  }
 },
 "nbformat": 4,
 "nbformat_minor": 4
}
